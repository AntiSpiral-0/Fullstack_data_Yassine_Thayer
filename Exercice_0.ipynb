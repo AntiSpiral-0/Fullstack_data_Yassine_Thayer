{
 "cells": [
  {
   "cell_type": "markdown",
   "metadata": {},
   "source": [
    "# Exercice Number 0"
   ]
  },
  {
   "cell_type": "markdown",
   "metadata": {},
   "source": [
    "- Creating the list of dictionary"
   ]
  },
  {
   "cell_type": "code",
   "execution_count": 2,
   "metadata": {},
   "outputs": [],
   "source": [
    "Employees = {}"
   ]
  },
  {
   "cell_type": "markdown",
   "metadata": {},
   "source": [
    "- Making 3 employees through a loop and appending them to the dict list"
   ]
  },
  {
   "cell_type": "code",
   "execution_count": 4,
   "metadata": {},
   "outputs": [
    {
     "name": "stdout",
     "output_type": "stream",
     "text": [
      "{0: {'EmployeeID': 0, 'Name': 'Yassine', 'Department': 'IT', 'Salary': 41000}, 1: {'EmployeeID': 1, 'Name': 'Ray', 'Department': 'HR', 'Salary': 35000}, 2: {'EmployeeID': 2, 'Name': 'Vick', 'Department': 'HR', 'Salary': 32000}}\n"
     ]
    }
   ],
   "source": [
    "for i in range(3):\n",
    "    Name = input('Employee Name')\n",
    "    Department = input('Employee Department')\n",
    "    Salary = int(input('Employee Salary'))\n",
    "    Employees[i] = {\n",
    "        'EmployeeID' : i,\n",
    "        'Name' : Name,\n",
    "        'Department' : Department,\n",
    "        'Salary' : Salary,\n",
    "        }\n",
    "print(Employees)\n"
   ]
  },
  {
   "cell_type": "markdown",
   "metadata": {},
   "source": [
    "- Printing the form that is requested"
   ]
  },
  {
   "cell_type": "code",
   "execution_count": 5,
   "metadata": {},
   "outputs": [
    {
     "name": "stdout",
     "output_type": "stream",
     "text": [
      "{'Yassine'} is working with the department of {'IT'} and earns a salary of {41000}\n",
      "{'Ray'} is working with the department of {'HR'} and earns a salary of {35000}\n",
      "{'Vick'} is working with the department of {'HR'} and earns a salary of {32000}\n"
     ]
    }
   ],
   "source": [
    "for i in range(len(Employees)):\n",
    "    n = {Employees[i]['Name']}\n",
    "    d = {Employees[i]['Department']}\n",
    "    s = {Employees[i]['Salary']}\n",
    "    print(f'{n} is working with the department of {d} and earns a salary of {s}')\n"
   ]
  },
  {
   "cell_type": "markdown",
   "metadata": {},
   "source": [
    "- The average salary of the HR employees"
   ]
  },
  {
   "cell_type": "code",
   "execution_count": 6,
   "metadata": {},
   "outputs": [
    {
     "name": "stdout",
     "output_type": "stream",
     "text": [
      "The average salary from the HR department is 33500\n"
     ]
    }
   ],
   "source": [
    "import statistics\n",
    "HR_salaries = []\n",
    "for i in range(len(Employees)):\n",
    "    Department = Employees[i]['Department']\n",
    "    if Department == 'HR':\n",
    "        HR_salaries.append(Employees[i]['Salary'])\n",
    "\n",
    "print(f'The average salary from the HR department is {statistics.mean(HR_salaries)}')\n",
    "        \n"
   ]
  },
  {
   "cell_type": "markdown",
   "metadata": {},
   "source": [
    "- All the info about hr department"
   ]
  },
  {
   "cell_type": "code",
   "execution_count": 7,
   "metadata": {},
   "outputs": [
    {
     "name": "stdout",
     "output_type": "stream",
     "text": [
      "Name: Ray Department: HR Salary: 35000\n",
      "Name: Vick Department: HR Salary: 32000\n"
     ]
    }
   ],
   "source": [
    "for i in range(len(Employees)):\n",
    "    if Employees[i]['Department'] == 'HR':\n",
    "        print(f\"Name: {Employees[i]['Name']} Department: {Employees[i]['Department']} Salary: {Employees[i]['Salary']}\")\n",
    "\n"
   ]
  },
  {
   "cell_type": "markdown",
   "metadata": {},
   "source": [
    "- All unique Departments"
   ]
  },
  {
   "cell_type": "code",
   "execution_count": 8,
   "metadata": {},
   "outputs": [
    {
     "name": "stdout",
     "output_type": "stream",
     "text": [
      "All the departments: ['IT', 'HR']\n"
     ]
    }
   ],
   "source": [
    "Departments = []\n",
    "for i in range(len(Employees)):\n",
    "    if Employees[i]['Department'] in Departments:\n",
    "        break\n",
    "    else:\n",
    "        Departments.append(Employees[i]['Department'])\n",
    "\n",
    "print(f'All the departments: {Departments}')\n"
   ]
  },
  {
   "cell_type": "code",
   "execution_count": 9,
   "metadata": {},
   "outputs": [
    {
     "name": "stdout",
     "output_type": "stream",
     "text": [
      "Yassine\n",
      "Ray\n",
      "Vick\n",
      "{0: {'EmployeeID': 0, 'Name': 'Yassine', 'Department': 'IT', 'Salary': 41000, 'Age': 21}, 1: {'EmployeeID': 1, 'Name': 'Ray', 'Department': 'HR', 'Salary': 35000, 'Age': 34}, 2: {'EmployeeID': 2, 'Name': 'Vick', 'Department': 'HR', 'Salary': 32000, 'Age': None}}\n"
     ]
    }
   ],
   "source": [
    "for i in range(len(Employees)):\n",
    "    employee_name = Employees[i]['Name']\n",
    "    print(employee_name)\n",
    "    if i < len(Employees) - 1:\n",
    "        age = int(input(f'select the age of {employee_name}'))\n",
    "        Employees[i]['Age']= age\n",
    "\n",
    "    else:\n",
    "        Employees[i]['Age']= None\n",
    "        \n",
    "print(Employees)\n"
   ]
  },
  {
   "cell_type": "code",
   "execution_count": 1,
   "metadata": {},
   "outputs": [
    {
     "name": "stdout",
     "output_type": "stream",
     "text": [
      "Attack was successful, It was super effective!\n",
      "Bulbasaur took 20 damage! HP is now 25.\n",
      "Charizard attacked Bulbasaur and caused damage!\n",
      "Attack was successful, It was not very effective...\n",
      "Charizard took 10 damage! HP is now 68.\n",
      "Bulbasaur attacked Charizard and caused damage!\n",
      "Attack was successful, It was super effective!\n",
      "Bulbasaur took 20 damage! HP is now 5.\n",
      "Charizard attacked Bulbasaur and caused damage!\n",
      "Attack was successful, It was not very effective...\n",
      "Charizard took 10 damage! HP is now 58.\n",
      "Bulbasaur attacked Charizard and caused damage!\n",
      "Attack was successful, It was super effective!\n",
      "Bulbasaur took 20 damage! HP is now -15.\n",
      "Bulbasaur has fainted...\n",
      "Charizard attacked Bulbasaur and caused damage!\n",
      "Charizard wins the battle!\n"
     ]
    }
   ],
   "source": [
    "class Pokemon():\n",
    "    def __init__(self ,Name : str ,Type : str , Level : int , HP : int) -> None:\n",
    "        self.Type = Type\n",
    "        self.Level = Level\n",
    "        self.HP = HP\n",
    "        self.Name = Name\n",
    "    def __repr__(self) -> str:\n",
    "        return f\"The Specified Pokemon {self.Name} is a {self.Type} Type and is level {self.Level} with a total HP of {self.HP}\"\n",
    "    def __takedamage__(self, attacker_type : str) -> None:\n",
    "        Attack = self.Level * 2\n",
    "        if (attacker_type == 'Water' and self.Type == 'Fire') or (attacker_type == 'Grass' and self.Type == 'Water') or (attacker_type == 'Fire' and self.Type== 'Grass'):\n",
    "            print('Attack was successful, It was super effective!')\n",
    "            Attack = Attack * 2\n",
    "            \n",
    "        elif (attacker_type == 'Fire' and self.Type == 'Water') or (attacker_type == 'Water' and self.Type == 'Grass') or (attacker_type == 'Grass' and self.Type== 'Fire'):\n",
    "            print('Attack was successful, It was not very effective...')\n",
    "            Attack = Attack // 2\n",
    "        \n",
    "        self.HP -= Attack\n",
    "        print(f\"{self.Name} took {Attack} damage! HP is now {self.HP}.\")\n",
    "        if self.HP <= 0:\n",
    "            self.HP = 0\n",
    "            print(f'{self.Name} has fainted...')\n",
    "    \n",
    "    def __Attack__(self, Obj: \"Pokemon\") -> str:\n",
    "        Obj.__takedamage__(self.Type)\n",
    "        return f\"{self.Name} attacked {Obj.Name} and caused damage!\"\n",
    "                \n",
    "charizard = Pokemon(\"Charizard\", \"Fire\", 10, 78)\n",
    "bulbasaur = Pokemon(\"Bulbasaur\", \"Grass\", 5, 45)\n",
    "\n",
    "Turn = 0\n",
    "\n",
    "while charizard.HP > 0 and bulbasaur.HP > 0 :\n",
    "    if Turn % 2 == 0:\n",
    "        print(charizard.__Attack__(bulbasaur))\n",
    "\n",
    "    else:\n",
    "        print(bulbasaur.__Attack__(charizard))\n",
    "    \n",
    "    Turn = Turn + 1\n",
    "\n",
    "\n",
    "if charizard.HP > 0:\n",
    "    print(f\"{charizard.Name} wins the battle!\")\n",
    "else:\n",
    "    print(f\"{bulbasaur.Name} wins the battle!\")\n"
   ]
  },
  {
   "cell_type": "code",
   "execution_count": 31,
   "metadata": {},
   "outputs": [
    {
     "name": "stdout",
     "output_type": "stream",
     "text": [
      "The Specified Pokemon is a Water Type and is level 1 with a total HP of 25\n",
      "The Specified Pokemon is a Water Type and is level 3 with a total HP of 30\n",
      "The Specified Pokemon is a Water Type and is level 4 with a total HP of 50\n"
     ]
    }
   ],
   "source": [
    "squirtle1 = Pokemon('Squirtle','Water' , 1, 10)\n",
    "squirtle2 = Pokemon('Squirtle','Water' , 3, 30)\n",
    "polywag1 = Pokemon('Polywag','Water' , 4 , 40)\n",
    "pokemon_tuple = (squirtle1 , squirtle2 , polywag1)\n",
    "for i in range(len(pokemon_tuple)):\n",
    "    print(repr(pokemon_tuple[i]))"
   ]
  },
  {
   "cell_type": "code",
   "execution_count": 2,
   "metadata": {},
   "outputs": [
    {
     "name": "stdout",
     "output_type": "stream",
     "text": [
      "The Specified Pokemon Pikachu is a Electric Type and is level 10 with a total HP of 100\n"
     ]
    }
   ],
   "source": [
    "pikachu1 = Pokemon('Pikachu','Electric' , 10, 100)\n",
    "print(repr(pikachu1))"
   ]
  },
  {
   "cell_type": "markdown",
   "metadata": {},
   "source": [
    "# lists are ordered (can be access their positions using integers) and indexed by position. dicts are unordered and \n",
    "# the only way to access a specific content is only by calling the specific key"
   ]
  },
  {
   "cell_type": "markdown",
   "metadata": {},
   "source": [
    "# Positional Arguments : These are the parameters that should be provided to a function in order to execute what is needed. they are usually variables with different data types that work in the function to achieve a certain outcome."
   ]
  },
  {
   "cell_type": "markdown",
   "metadata": {},
   "source": [
    "# Lists and Tuples: lists are mutable while tuples are not mutable meaning no way of changing the contents of tuple using integer indexing. Lists on the other hand have much more impact on memory usage and performance due to their flexiblity while tuples are way faster to use because of their constant state which makes them ideal for coders who want a list of unchangeable elements."
   ]
  },
  {
   "cell_type": "markdown",
   "metadata": {},
   "source": [
    "# Dynamic typing seems to be the python way of processing data types that are assigned without stating what type it is based on value alone, meaning if a variable recieved a value of 4 , python will assume it to be an integer. Thus, Python has made it so that its faster to make variables with the needed data types without the necessity of assigning the data types to them."
   ]
  },
  {
   "cell_type": "markdown",
   "metadata": {},
   "source": [
    "# The __repr__ function is primarily used to provide a string representation of an object that includes its attributes, making it easier for developers to inspect and understand the object's purpose and details. This string representation is intended to be unambiguous and informative, ideally allowing for the recreation of the object if necessary."
   ]
  },
  {
   "cell_type": "markdown",
   "metadata": {},
   "source": [
    "# The __repr__ function is used for the convenience of developers, providing a detailed and unambiguous representation of an object to help with debugging and development. In contrast, the __str__ function is designed to present a more user-friendly representation of the object, intended for end-users or general display."
   ]
  },
  {
   "cell_type": "markdown",
   "metadata": {},
   "source": [
    "# Encapsulation in OOP serves multiple purposes:\n",
    "\n",
    "- Data Hiding: It allows for the hiding of attributes that are not intended to be public, controlling access to an object's internal state.\n",
    "- Security: Encapsulation enhances security by protecting the object's data from being accessed or modified by outside sources, reducing the risk of misuse or unintended interference.\n",
    "\n",
    "- Abstraction: It facilitates abstraction, where an object can represent a real-world entity while hiding its complex internal workings. This allows users to interact with the object through a simplified interface without needing to understand the intricate details of its implementation."
   ]
  },
  {
   "cell_type": "markdown",
   "metadata": {},
   "source": [
    "OOP Pillars are: Encapsulation, abstraction, polymorphism and inheritance"
   ]
  }
 ],
 "metadata": {
  "kernelspec": {
   "display_name": "Python 3",
   "language": "python",
   "name": "python3"
  },
  "language_info": {
   "codemirror_mode": {
    "name": "ipython",
    "version": 3
   },
   "file_extension": ".py",
   "mimetype": "text/x-python",
   "name": "python",
   "nbconvert_exporter": "python",
   "pygments_lexer": "ipython3",
   "version": "3.11.7"
  }
 },
 "nbformat": 4,
 "nbformat_minor": 2
}
