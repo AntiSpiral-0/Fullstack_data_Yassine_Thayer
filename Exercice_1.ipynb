{
 "cells": [
  {
   "cell_type": "markdown",
   "metadata": {},
   "source": [
    "# EDA\n"
   ]
  },
  {
   "cell_type": "code",
   "execution_count": 8,
   "metadata": {},
   "outputs": [
    {
     "data": {
      "text/html": [
       "<div>\n",
       "<style scoped>\n",
       "    .dataframe tbody tr th:only-of-type {\n",
       "        vertical-align: middle;\n",
       "    }\n",
       "\n",
       "    .dataframe tbody tr th {\n",
       "        vertical-align: top;\n",
       "    }\n",
       "\n",
       "    .dataframe thead th {\n",
       "        text-align: right;\n",
       "    }\n",
       "</style>\n",
       "<table border=\"1\" class=\"dataframe\">\n",
       "  <thead>\n",
       "    <tr style=\"text-align: right;\">\n",
       "      <th></th>\n",
       "      <th>EmployeeID</th>\n",
       "      <th>FirstName</th>\n",
       "      <th>LastName</th>\n",
       "      <th>Age</th>\n",
       "      <th>Department</th>\n",
       "      <th>Position</th>\n",
       "      <th>Salary_SEK</th>\n",
       "      <th>Email</th>\n",
       "      <th>PhoneNumber</th>\n",
       "    </tr>\n",
       "  </thead>\n",
       "  <tbody>\n",
       "    <tr>\n",
       "      <th>0</th>\n",
       "      <td>E001</td>\n",
       "      <td>Ann</td>\n",
       "      <td>Larsson</td>\n",
       "      <td>41</td>\n",
       "      <td>Product Management</td>\n",
       "      <td>AI Specialist</td>\n",
       "      <td>60777.0</td>\n",
       "      <td>ann.larsson@supacoolsoft.se</td>\n",
       "      <td>+46 (0)25 37 22 30</td>\n",
       "    </tr>\n",
       "    <tr>\n",
       "      <th>1</th>\n",
       "      <td>E002</td>\n",
       "      <td>Emma</td>\n",
       "      <td>Kim</td>\n",
       "      <td>52</td>\n",
       "      <td>Engineering</td>\n",
       "      <td>Database Administrator</td>\n",
       "      <td>46020.0</td>\n",
       "      <td>emma.kim@supacoolsoft.se</td>\n",
       "      <td>+46 (0)855 449 66</td>\n",
       "    </tr>\n",
       "    <tr>\n",
       "      <th>2</th>\n",
       "      <td>E003</td>\n",
       "      <td>Barbro</td>\n",
       "      <td>Andersson</td>\n",
       "      <td>59</td>\n",
       "      <td>DevOps</td>\n",
       "      <td>Data Scientist</td>\n",
       "      <td>48503.0</td>\n",
       "      <td>barbro.andersson@supacoolsoft.se</td>\n",
       "      <td>+46 (0)47 61 73 44</td>\n",
       "    </tr>\n",
       "    <tr>\n",
       "      <th>3</th>\n",
       "      <td>E004</td>\n",
       "      <td>Magnus</td>\n",
       "      <td>Söderström</td>\n",
       "      <td>52</td>\n",
       "      <td>Product Management</td>\n",
       "      <td>Junior Data Scientist</td>\n",
       "      <td>47296.0</td>\n",
       "      <td>magnus.söderström@supacoolsoft.se</td>\n",
       "      <td>+46 (0)258 579 26</td>\n",
       "    </tr>\n",
       "    <tr>\n",
       "      <th>4</th>\n",
       "      <td>E005</td>\n",
       "      <td>Therese</td>\n",
       "      <td>Ljungberg</td>\n",
       "      <td>46</td>\n",
       "      <td>Product Management</td>\n",
       "      <td>Junior Data Scientist</td>\n",
       "      <td>42435.0</td>\n",
       "      <td>therese.ljungberg@supacoolsoft.se</td>\n",
       "      <td>+46 (0)575 495 24</td>\n",
       "    </tr>\n",
       "  </tbody>\n",
       "</table>\n",
       "</div>"
      ],
      "text/plain": [
       "  EmployeeID FirstName    LastName  Age          Department  \\\n",
       "0       E001       Ann     Larsson   41  Product Management   \n",
       "1       E002      Emma         Kim   52         Engineering   \n",
       "2       E003    Barbro   Andersson   59              DevOps   \n",
       "3       E004    Magnus  Söderström   52  Product Management   \n",
       "4       E005   Therese   Ljungberg   46  Product Management   \n",
       "\n",
       "                 Position  Salary_SEK                              Email  \\\n",
       "0           AI Specialist     60777.0        ann.larsson@supacoolsoft.se   \n",
       "1  Database Administrator     46020.0           emma.kim@supacoolsoft.se   \n",
       "2          Data Scientist     48503.0   barbro.andersson@supacoolsoft.se   \n",
       "3   Junior Data Scientist     47296.0  magnus.söderström@supacoolsoft.se   \n",
       "4   Junior Data Scientist     42435.0  therese.ljungberg@supacoolsoft.se   \n",
       "\n",
       "          PhoneNumber  \n",
       "0  +46 (0)25 37 22 30  \n",
       "1   +46 (0)855 449 66  \n",
       "2  +46 (0)47 61 73 44  \n",
       "3   +46 (0)258 579 26  \n",
       "4   +46 (0)575 495 24  "
      ]
     },
     "execution_count": 8,
     "metadata": {},
     "output_type": "execute_result"
    }
   ],
   "source": [
    "import pandas as pd\n",
    "\n",
    "\n",
    "df_supahcoolsoft = pd.read_csv('supahcoolsoft.csv')\n",
    "\n",
    "\n",
    "df_supahcoolsoft.head()\n"
   ]
  },
  {
   "cell_type": "markdown",
   "metadata": {},
   "source": [
    "# Shape of the data "
   ]
  },
  {
   "cell_type": "code",
   "execution_count": 3,
   "metadata": {},
   "outputs": [
    {
     "data": {
      "text/plain": [
       "(100, 9)"
      ]
     },
     "execution_count": 3,
     "metadata": {},
     "output_type": "execute_result"
    }
   ],
   "source": [
    "df_supahcoolsoft.shape\n",
    "# shows 100 rows and 9 columns"
   ]
  },
  {
   "cell_type": "code",
   "execution_count": 6,
   "metadata": {},
   "outputs": [
    {
     "name": "stdout",
     "output_type": "stream",
     "text": [
      "<class 'pandas.core.frame.DataFrame'>\n",
      "RangeIndex: 100 entries, 0 to 99\n",
      "Data columns (total 9 columns):\n",
      " #   Column       Non-Null Count  Dtype  \n",
      "---  ------       --------------  -----  \n",
      " 0   EmployeeID   100 non-null    object \n",
      " 1   FirstName    100 non-null    object \n",
      " 2   LastName     100 non-null    object \n",
      " 3   Age          100 non-null    int64  \n",
      " 4   Department   98 non-null     object \n",
      " 5   Position     99 non-null     object \n",
      " 6   Salary_SEK   99 non-null     float64\n",
      " 7   Email        100 non-null    object \n",
      " 8   PhoneNumber  100 non-null    object \n",
      "dtypes: float64(1), int64(1), object(7)\n",
      "memory usage: 7.2+ KB\n"
     ]
    }
   ],
   "source": [
    "df_supahcoolsoft.info()\n",
    "# shows the data types from each column"
   ]
  },
  {
   "cell_type": "code",
   "execution_count": 7,
   "metadata": {},
   "outputs": [
    {
     "data": {
      "text/html": [
       "<div>\n",
       "<style scoped>\n",
       "    .dataframe tbody tr th:only-of-type {\n",
       "        vertical-align: middle;\n",
       "    }\n",
       "\n",
       "    .dataframe tbody tr th {\n",
       "        vertical-align: top;\n",
       "    }\n",
       "\n",
       "    .dataframe thead th {\n",
       "        text-align: right;\n",
       "    }\n",
       "</style>\n",
       "<table border=\"1\" class=\"dataframe\">\n",
       "  <thead>\n",
       "    <tr style=\"text-align: right;\">\n",
       "      <th></th>\n",
       "      <th>Age</th>\n",
       "      <th>Salary_SEK</th>\n",
       "    </tr>\n",
       "  </thead>\n",
       "  <tbody>\n",
       "    <tr>\n",
       "      <th>count</th>\n",
       "      <td>100.000000</td>\n",
       "      <td>99.000000</td>\n",
       "    </tr>\n",
       "    <tr>\n",
       "      <th>mean</th>\n",
       "      <td>43.430000</td>\n",
       "      <td>52049.181818</td>\n",
       "    </tr>\n",
       "    <tr>\n",
       "      <th>std</th>\n",
       "      <td>10.032528</td>\n",
       "      <td>10993.553359</td>\n",
       "    </tr>\n",
       "    <tr>\n",
       "      <th>min</th>\n",
       "      <td>25.000000</td>\n",
       "      <td>30452.000000</td>\n",
       "    </tr>\n",
       "    <tr>\n",
       "      <th>25%</th>\n",
       "      <td>35.000000</td>\n",
       "      <td>43179.000000</td>\n",
       "    </tr>\n",
       "    <tr>\n",
       "      <th>50%</th>\n",
       "      <td>42.500000</td>\n",
       "      <td>52919.000000</td>\n",
       "    </tr>\n",
       "    <tr>\n",
       "      <th>75%</th>\n",
       "      <td>52.000000</td>\n",
       "      <td>60942.000000</td>\n",
       "    </tr>\n",
       "    <tr>\n",
       "      <th>max</th>\n",
       "      <td>60.000000</td>\n",
       "      <td>69742.000000</td>\n",
       "    </tr>\n",
       "  </tbody>\n",
       "</table>\n",
       "</div>"
      ],
      "text/plain": [
       "              Age    Salary_SEK\n",
       "count  100.000000     99.000000\n",
       "mean    43.430000  52049.181818\n",
       "std     10.032528  10993.553359\n",
       "min     25.000000  30452.000000\n",
       "25%     35.000000  43179.000000\n",
       "50%     42.500000  52919.000000\n",
       "75%     52.000000  60942.000000\n",
       "max     60.000000  69742.000000"
      ]
     },
     "execution_count": 7,
     "metadata": {},
     "output_type": "execute_result"
    }
   ],
   "source": [
    "df_supahcoolsoft.describe()"
   ]
  },
  {
   "cell_type": "code",
   "execution_count": 12,
   "metadata": {},
   "outputs": [
    {
     "data": {
      "text/plain": [
       "EmployeeID     100\n",
       "FirstName      100\n",
       "LastName       100\n",
       "Age            100\n",
       "Department     100\n",
       "Position       100\n",
       "Salary_SEK     100\n",
       "Email          100\n",
       "PhoneNumber    100\n",
       "dtype: int64"
      ]
     },
     "execution_count": 12,
     "metadata": {},
     "output_type": "execute_result"
    }
   ],
   "source": []
  },
  {
   "cell_type": "code",
   "execution_count": null,
   "metadata": {},
   "outputs": [],
   "source": []
  }
 ],
 "metadata": {
  "kernelspec": {
   "display_name": "Python 3",
   "language": "python",
   "name": "python3"
  },
  "language_info": {
   "codemirror_mode": {
    "name": "ipython",
    "version": 3
   },
   "file_extension": ".py",
   "mimetype": "text/x-python",
   "name": "python",
   "nbconvert_exporter": "python",
   "pygments_lexer": "ipython3",
   "version": "3.11.7"
  }
 },
 "nbformat": 4,
 "nbformat_minor": 2
}
