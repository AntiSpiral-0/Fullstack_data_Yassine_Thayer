{
 "cells": [
  {
   "cell_type": "code",
   "execution_count": 1,
   "metadata": {},
   "outputs": [
    {
     "data": {
      "text/plain": [
       "('Yassine', 21, 0, True)"
      ]
     },
     "execution_count": 1,
     "metadata": {},
     "output_type": "execute_result"
    }
   ],
   "source": [
    "name = \"Yassine\"\n",
    "age = 21\n",
    "number_of_children = 0\n",
    "loves_math = True\n",
    "\n",
    "name, age, number_of_children, loves_math"
   ]
  },
  {
   "cell_type": "code",
   "execution_count": 2,
   "metadata": {},
   "outputs": [
    {
     "name": "stdout",
     "output_type": "stream",
     "text": [
      "type(name) is <class 'str'>\n",
      "type(age) is <class 'int'>\n",
      "type(number_of_children) is <class 'int'>\n",
      "type(loves_math) is <class 'bool'>\n"
     ]
    }
   ],
   "source": [
    "print(f\"type(name) is {type(name)}\")\n",
    "print(f\"type(age) is {type(age)}\")\n",
    "print(f\"type(number_of_children) is {type(number_of_children)}\")\n",
    "print(f\"type(loves_math) is {type(loves_math)}\")"
   ]
  },
  {
   "cell_type": "code",
   "execution_count": 5,
   "metadata": {},
   "outputs": [
    {
     "data": {
      "text/plain": [
       "['Yassine', 21, 0, True]"
      ]
     },
     "execution_count": 5,
     "metadata": {},
     "output_type": "execute_result"
    }
   ],
   "source": [
    "interests = ['Nature' , 'Bodybuilding', 'AI' , 'programming']\n",
    "person = ['Yassine', 21, 0 , True] \n",
    "person"
   ]
  },
  {
   "cell_type": "code",
   "execution_count": 6,
   "metadata": {},
   "outputs": [
    {
     "data": {
      "text/plain": [
       "['Yassine', 21, 0, True, ['Nature', 'Bodybuilding', 'AI', 'programming']]"
      ]
     },
     "execution_count": 6,
     "metadata": {},
     "output_type": "execute_result"
    }
   ],
   "source": [
    "person.append(interests)\n",
    "person"
   ]
  },
  {
   "cell_type": "code",
   "execution_count": 7,
   "metadata": {},
   "outputs": [
    {
     "name": "stdout",
     "output_type": "stream",
     "text": [
      "numbers = [0, 1, 2, 3, 4, 5, 6, 7, 8, 9]\n",
      "squares = [0, 1, 4, 9, 16, 25, 36, 49, 64, 81]\n",
      "cubes = [0, 1, 8, 27, 64, 125, 216, 343]\n",
      "8 cubes before we go over 500\n"
     ]
    }
   ],
   "source": [
    "numbers = []\n",
    "for i in range(10):\n",
    "    numbers.append(i)\n",
    "\n",
    "print(f\"{numbers = }\")\n",
    "\n",
    "squares = []\n",
    "# looping through a list with for\n",
    "for number in numbers:\n",
    "    squares.append(number**2)\n",
    "\n",
    "print(f\"{squares = }\")\n",
    "\n",
    "# cube as long as the result is lower than 500\n",
    "i, cubes = 0, [0]  # multiple assignment\n",
    "while (i + 1) ** 3 < 500:  # to avoid off-by-one error\n",
    "    i += 1\n",
    "    cubes.append(i**3)\n",
    "\n",
    "print(f\"{cubes = }\")\n",
    "\n",
    "print(f\"{len(cubes)} cubes before we go over 500\")"
   ]
  },
  {
   "cell_type": "code",
   "execution_count": 8,
   "metadata": {},
   "outputs": [
    {
     "name": "stdout",
     "output_type": "stream",
     "text": [
      "dices = [5, 2, 2, 3, 4, 3, 6, 5, 2, 1, 1, 6, 2, 6, 3, 6, 1, 6, 3, 5]\n",
      "unique_dices = {1, 2, 3, 4, 5, 6}\n"
     ]
    }
   ],
   "source": [
    "import random as rnd\n",
    "\n",
    "dices = [\n",
    "    rnd.randint(1, 6) for _ in range(20)\n",
    "]  # convention: underscore _ when not using the variable in the loop\n",
    "\n",
    "print(f\"{dices = }\")\n",
    "\n",
    "unique_dices = set(dices)\n",
    "print(f\"{unique_dices = }\")"
   ]
  },
  {
   "cell_type": "code",
   "execution_count": 9,
   "metadata": {},
   "outputs": [
    {
     "name": "stdout",
     "output_type": "stream",
     "text": [
      "unique_dices = {1, 2, 3, 4, 5, 6}\n",
      "set2 = {1, 10, 3, 15}\n",
      "unique_dices.union(set2) = {1, 2, 3, 4, 5, 6, 10, 15}\n",
      "unique_dices | set2 = {1, 2, 3, 4, 5, 6, 10, 15}\n",
      "\n",
      "unique_dices.intersection(set2) = {1, 3}\n",
      "unique_dices & set2 = {1, 3}\n",
      "\n",
      "unique_dices.difference(set2) = {2, 4, 5, 6}\n",
      "unique_dices - set2 = {2, 4, 5, 6}\n",
      "\n",
      "unique_dices.issubset(set2) = False\n",
      "set3.issubset(unique_dices) = True\n"
     ]
    }
   ],
   "source": [
    "set2 = {1, 3, 10, 15}\n",
    "\n",
    "print(f\"{unique_dices = }\")\n",
    "print(f\"{set2 = }\\n\")\n",
    "\n",
    "print(f\"{unique_dices.union(set2) = }\")\n",
    "print(f\"{unique_dices | set2 = }\\n\")  # union\n",
    "\n",
    "print(f\"{unique_dices.intersection(set2) = }\")\n",
    "print(f\"{unique_dices & set2 = }\\n\")\n",
    "\n",
    "print(f\"{unique_dices.difference(set2) = }\")\n",
    "print(f\"{unique_dices - set2 = }\\n\")\n",
    "\n",
    "set3 = {1, 2}\n",
    "print(f\"{unique_dices.issubset(set2) = }\")\n",
    "print(f\"{set3.issubset(unique_dices) = }\")"
   ]
  },
  {
   "cell_type": "code",
   "execution_count": null,
   "metadata": {},
   "outputs": [],
   "source": []
  }
 ],
 "metadata": {
  "kernelspec": {
   "display_name": "Python 3",
   "language": "python",
   "name": "python3"
  },
  "language_info": {
   "codemirror_mode": {
    "name": "ipython",
    "version": 3
   },
   "file_extension": ".py",
   "mimetype": "text/x-python",
   "name": "python",
   "nbconvert_exporter": "python",
   "pygments_lexer": "ipython3",
   "version": "3.11.7"
  }
 },
 "nbformat": 4,
 "nbformat_minor": 2
}
